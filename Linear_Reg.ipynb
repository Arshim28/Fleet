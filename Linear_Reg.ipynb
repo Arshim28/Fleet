{
 "cells": [
  {
   "cell_type": "code",
   "execution_count": 1,
   "id": "0fbced55",
   "metadata": {},
   "outputs": [],
   "source": [
    "import pandas as pd\n",
    "import numpy as np\n",
    "import matplotlib.pyplot as plt\n",
    "from sklearn.decomposition import PCA\n",
    "from sklearn.metrics import mean_squared_error, r2_score, explained_variance_score\n",
    "from sklearn.linear_model import Lasso, Ridge, LogisticRegression, LinearRegression\n",
    "from sklearn.model_selection import GridSearchCV\n",
    "from sklearn.model_selection import cross_validate, train_test_split\n",
    "import seaborn as sns\n",
    "from sklearn import tree\n",
    "from sklearn.tree import DecisionTreeRegressor\n",
    "from sklearn import metrics\n",
    "from sklearn.model_selection import GridSearchCV\n",
    "from sklearn.ensemble import RandomForestRegressor\n",
    "from sklearn.preprocessing import MinMaxScaler\n",
    "from sklearn.preprocessing import PolynomialFeatures\n",
    "from sklearn.pipeline import make_pipeline\n",
    "import warnings\n",
    "\n",
    "warnings.filterwarnings(\"ignore\")"
   ]
  },
  {
   "cell_type": "markdown",
   "id": "1d89a6a7",
   "metadata": {},
   "source": [
    "# Linear Regression Everything"
   ]
  },
  {
   "cell_type": "code",
   "execution_count": 39,
   "id": "6345a1a2",
   "metadata": {},
   "outputs": [
    {
     "name": "stdout",
     "output_type": "stream",
     "text": [
      "0.05724761597201822\n"
     ]
    }
   ],
   "source": [
    "driver_df=pd.read_csv(\"driver.csv\")\n",
    "x_cols=['AGE', 'NUMBER_OF_TRIPS', 'REWARD_POINTS', 'MILES_IN_URBAN', 'CORNERING', 'SPEEDING', 'SEATBELT', 'DISTRACTION']\n",
    "y_col=\"SAFETY_SCORE\"\n",
    "\n",
    "scaler=MinMaxScaler()\n",
    "driver_df[x_cols]=scaler.fit_transform(driver_df[x_cols])\n",
    "\n",
    "X_df=driver_df[x_cols]\n",
    "Y_df=driver_df[y_col]/100\n",
    "\n",
    "driver_linear_model=LinearRegression()\n",
    "driver_linear_model.fit(X_df, Y_df)\n",
    "\n",
    "Y_pred=driver_linear_model.predict(X_df)*100\n",
    "\n",
    "print(explained_variance_score(driver_df[y_col], Y_pred))"
   ]
  },
  {
   "cell_type": "code",
   "execution_count": 48,
   "id": "687d8fe3",
   "metadata": {},
   "outputs": [
    {
     "name": "stdout",
     "output_type": "stream",
     "text": [
      "0.05076554251234944\n"
     ]
    }
   ],
   "source": [
    "vehicle_df=pd.read_csv(\"vehicle.csv\")\n",
    "x_cols=['CAPACITY', 'BATTERY_HEALTH', 'BATTERY_VOLTAGE', 'TYRE_PRESSURE', 'FUEL_LEVEL', 'OIL_LEVEL',  'LAST_SERVICE_MILES', 'NEXT_SERVICE_MILES']\n",
    "y_col=\"SAFETY_SCORE\"\n",
    "\n",
    "vehicle_df[x_cols[0]]=vehicle_df[x_cols[0]].replace([\"STD\", \"XL LARGE\", \"LARGE\"], [0, 1, 2])\n",
    "vehicle_df[x_cols[1]]=vehicle_df[x_cols[1]].replace([\"AVERAGE\", \"GOOD\"], [0, 1])\n",
    "\n",
    "scaler=MinMaxScaler()\n",
    "vehicle_df[x_cols]=scaler.fit_transform(vehicle_df[x_cols])\n",
    "\n",
    "X_df=vehicle_df[x_cols]\n",
    "Y_df=vehicle_df[y_col]/100\n",
    "\n",
    "vehicle_linear_model=LinearRegression()\n",
    "vehicle_linear_model.fit(X_df, Y_df)\n",
    "\n",
    "Y_pred=vehicle_linear_model.predict(X_df)*100\n",
    "\n",
    "print(explained_variance_score(vehicle_df[y_col], Y_pred))"
   ]
  },
  {
   "cell_type": "code",
   "execution_count": 47,
   "id": "d384d42a",
   "metadata": {},
   "outputs": [
    {
     "name": "stdout",
     "output_type": "stream",
     "text": [
      "0.042787196058283294\n"
     ]
    }
   ],
   "source": [
    "route_df=pd.read_csv(\"route.csv\")\n",
    "x_cols=['RAIN', 'TEMP', 'PRESSURE', 'WIND_SPEED', 'WIND_DIRECTION']\n",
    "y_col=\"AVG_RISK_SCORE\"\n",
    "\n",
    "scaler=MinMaxScaler()\n",
    "route_df[x_cols]=scaler.fit_transform(route_df[x_cols])\n",
    "\n",
    "X_df=route_df[x_cols]\n",
    "Y_df=route_df[y_col]/100\n",
    "\n",
    "route_linear_model=LinearRegression()\n",
    "route_linear_model.fit(X_df, Y_df)\n",
    "\n",
    "Y_pred=route_linear_model.predict(X_df)*100\n",
    "\n",
    "print(explained_variance_score(route_df[y_col], Y_pred))"
   ]
  },
  {
   "cell_type": "code",
   "execution_count": null,
   "id": "bb39c98a",
   "metadata": {},
   "outputs": [],
   "source": []
  }
 ],
 "metadata": {
  "kernelspec": {
   "display_name": "Python 3 (ipykernel)",
   "language": "python",
   "name": "python3"
  },
  "language_info": {
   "codemirror_mode": {
    "name": "ipython",
    "version": 3
   },
   "file_extension": ".py",
   "mimetype": "text/x-python",
   "name": "python",
   "nbconvert_exporter": "python",
   "pygments_lexer": "ipython3",
   "version": "3.9.13"
  }
 },
 "nbformat": 4,
 "nbformat_minor": 5
}
